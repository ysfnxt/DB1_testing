{
 "cells": [
  {
   "cell_type": "code",
   "execution_count": 1,
   "id": "0f288c67-e232-4ae3-accd-45e724c34143",
   "metadata": {},
   "outputs": [],
   "source": [
    "import pandas as pd"
   ]
  },
  {
   "cell_type": "code",
   "execution_count": 2,
   "id": "ad1c8336-48a9-4eed-a30d-677241004c6d",
   "metadata": {},
   "outputs": [],
   "source": [
    "df1 = pd.read_csv(\"1_db_email_and_phone.csv\", low_memory=False)"
   ]
  },
  {
   "cell_type": "code",
   "execution_count": 3,
   "id": "81448f45-e5ea-414e-b433-2c36659c49fc",
   "metadata": {},
   "outputs": [],
   "source": [
    "df2 = pd.read_csv(\"1all_files_email_and_phone.csv\")"
   ]
  },
  {
   "cell_type": "code",
   "execution_count": null,
   "id": "cdc8becc-4f3e-467f-8d40-947e8b92dd33",
   "metadata": {},
   "outputs": [],
   "source": [
    "count = 0\n",
    "for i,j in enumerate(df1['linkedinurl']):\n",
    "    for k,l in enumerate(df2['linkedinurl']):\n",
    "        if j == l:\n",
    "            print(j)\n",
    "        else:\n",
    "            count += 1"
   ]
  },
  {
   "cell_type": "code",
   "execution_count": 6,
   "id": "f341763c-13e1-4531-96d3-a61d47fc3154",
   "metadata": {},
   "outputs": [
    {
     "data": {
      "text/plain": [
       "0          False\n",
       "1          False\n",
       "2          False\n",
       "3          False\n",
       "4          False\n",
       "           ...  \n",
       "1048570    False\n",
       "1048571    False\n",
       "1048572    False\n",
       "1048573    False\n",
       "1048574    False\n",
       "Name: linkedinurl, Length: 1048575, dtype: bool"
      ]
     },
     "execution_count": 6,
     "metadata": {},
     "output_type": "execute_result"
    }
   ],
   "source": [
    "df2['linkedinurl'].isin(df1['linkedinurl'])"
   ]
  },
  {
   "cell_type": "code",
   "execution_count": null,
   "id": "c4d1c636-b8de-443a-b2b0-eba41065a894",
   "metadata": {},
   "outputs": [],
   "source": []
  }
 ],
 "metadata": {
  "kernelspec": {
   "display_name": "Python 3 (ipykernel)",
   "language": "python",
   "name": "python3"
  },
  "language_info": {
   "codemirror_mode": {
    "name": "ipython",
    "version": 3
   },
   "file_extension": ".py",
   "mimetype": "text/x-python",
   "name": "python",
   "nbconvert_exporter": "python",
   "pygments_lexer": "ipython3",
   "version": "3.11.3"
  }
 },
 "nbformat": 4,
 "nbformat_minor": 5
}
